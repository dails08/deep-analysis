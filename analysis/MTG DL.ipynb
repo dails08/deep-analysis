{
 "cells": [
  {
   "cell_type": "code",
   "execution_count": 30,
   "metadata": {},
   "outputs": [],
   "source": [
    "import json\n",
    "\n",
    "import pandas as pd\n",
    "import numpy as np\n",
    "\n",
    "import re\n",
    "\n"
   ]
  },
  {
   "cell_type": "code",
   "execution_count": 23,
   "metadata": {},
   "outputs": [],
   "source": [
    "raw_data_str = open(\"../AllCards.json\").read()"
   ]
  },
  {
   "cell_type": "code",
   "execution_count": 17,
   "metadata": {},
   "outputs": [],
   "source": [
    "raw_data_str = \"[\" + raw_data_str + \"]\""
   ]
  },
  {
   "cell_type": "code",
   "execution_count": 24,
   "metadata": {},
   "outputs": [],
   "source": [
    "raw_data_json = json.loads(raw_data_str)"
   ]
  },
  {
   "cell_type": "code",
   "execution_count": 68,
   "metadata": {},
   "outputs": [
    {
     "name": "stdout",
     "output_type": "stream",
     "text": [
      "{'colorIdentity': ['G', 'R'], 'colors': ['G', 'R'], 'convertedManaCost': 6.0, 'foreignData': [], 'isReserved': False, 'layout': 'normal', 'legalities': {}, 'manaCost': '{2}{R}{R}{G}{G}', 'name': '\"Ach! Hans, Run!\"', 'printings': ['UNH'], 'rulings': [], 'subtypes': [], 'supertypes': [], 'text': 'At the beginning of your upkeep, you may say \"Ach Hans, run It\\'s the . . .\" and the name of a creature card. If you do, search your library for a card with that name, put it onto the battlefield, then shuffle your library. That creature gains haste. Exile it at the beginning of the next end step.', 'type': 'Enchantment', 'types': ['Enchantment'], 'uuid': '84f2c8f5-8e11-4639-b7de-00e4a2cbabee'}\n",
      "{'colorIdentity': ['B'], 'colors': ['B'], 'convertedManaCost': 3.0, 'foreignData': [], 'isReserved': False, 'layout': 'normal', 'legalities': {}, 'manaCost': '{2}{B}', 'name': '\"Rumors of My Death . . .\"', 'printings': ['UST'], 'rulings': [], 'subtypes': [], 'supertypes': [], 'text': '{3}{B}, Exile a permanent you control with a League of Dastardly Doom watermark: Return a permanent card with a League of Dastardly Doom watermark from your graveyard to the battlefield.', 'type': 'Enchantment', 'types': ['Enchantment'], 'uuid': 'cb3587b9-e727-4f37-b4d6-1baa7316262f'}\n",
      "{'colorIdentity': ['B', 'G', 'R', 'U', 'W'], 'colors': ['B', 'G', 'R', 'U', 'W'], 'convertedManaCost': 5.0, 'foreignData': [], 'isReserved': False, 'layout': 'normal', 'legalities': {}, 'manaCost': '{W}{U}{B}{R}{G}', 'name': '1996 World Champion', 'printings': ['PCEL'], 'rulings': [], 'starter': True, 'subtypes': ['Legend'], 'supertypes': [], 'text': 'Cannot be the targets of spells or effects. World Champion has power and toughness equal to the life total of target opponent.\\n{0}: Discard your hand to search your library for 1996 World Champion and reveal it to all players. Shuffle your library and put 1996 World Champion on top of it. Use this ability only at the beginning of your upkeep, and only if 1996 World Champion is in your library.', 'type': 'Summon — Legend', 'types': ['Summon'], 'uuid': 'd3f10f07-7cfe-4a6f-8de6-373e367a731b'}\n",
      "{'colorIdentity': [], 'colors': [], 'convertedManaCost': 0.0, 'foreignData': [], 'isReserved': False, 'layout': 'token', 'legalities': {}, 'name': '1998 World Championships Ad', 'printings': ['WC97'], 'rulings': [], 'starter': True, 'subtypes': [], 'supertypes': [], 'text': '', 'type': 'Card', 'types': ['Card'], 'uuid': '25e228f1-8619-4a9a-a01f-727c50abf733'}\n",
      "{'colorIdentity': [], 'colors': [], 'convertedManaCost': 0.0, 'foreignData': [], 'isReserved': False, 'layout': 'token', 'legalities': {}, 'name': '1999 World Championships Ad', 'printings': ['WC99'], 'rulings': [], 'starter': True, 'subtypes': [], 'supertypes': [], 'text': '', 'type': 'Card', 'types': ['Card'], 'uuid': '8635dea0-985a-4c02-a02b-8b08d96fb2dd'}\n",
      "{'colorIdentity': [], 'colors': [], 'convertedManaCost': 0.0, 'foreignData': [], 'isReserved': False, 'layout': 'token', 'legalities': {}, 'name': '2004 World Championships Ad', 'printings': ['WC04'], 'rulings': [], 'starter': True, 'subtypes': [], 'supertypes': [], 'text': '', 'type': 'Card', 'types': ['Card'], 'uuid': 'cbd6a762-f3c2-4b29-a07e-f0c9c81cf1ec'}\n",
      "{'colorIdentity': [], 'colors': [], 'convertedManaCost': 0.0, 'foreignData': [], 'isReserved': False, 'layout': 'scheme', 'legalities': {}, 'name': 'A Display of My Dark Power', 'printings': ['ARC'], 'rulings': [{'date': '2010-06-15', 'text': 'The ability affects all players, not just you.'}, {'date': '2010-06-15', 'text': 'The effect doesn’t wear off until just before your next untap step (even if an effect will cause that untap step to be skipped).'}, {'date': '2010-06-15', 'text': 'The types of mana are white, blue, black, red, green, and colorless.'}, {'date': '2010-06-15', 'text': 'If a land produces more than one type of mana at a single time (as Boros Garrison does, for example), the land’s controller chooses which one of those types of mana is produced by the delayed triggered ability.'}, {'date': '2010-06-15', 'text': 'If a land is tapped for mana but doesn’t produce any (for example, if you tap Gaea’s Cradle for mana while you control no creatures), the delayed triggered ability won’t trigger.'}], 'starter': True, 'subtypes': [], 'supertypes': [], 'text': 'When you set this scheme in motion, until your next turn, whenever a player taps a land for mana, that player adds one mana of any type that land produced.', 'type': 'Scheme', 'types': ['Scheme'], 'uuid': 'c5287e77-890d-41bd-acc6-7a8f1866426d'}\n",
      "{'colorIdentity': [], 'colors': [], 'convertedManaCost': 0.0, 'foreignData': [], 'isReserved': False, 'layout': 'scheme', 'legalities': {}, 'name': 'A Reckoning Approaches', 'printings': ['E01'], 'rulings': [], 'starter': True, 'subtypes': [], 'supertypes': [], 'text': 'When you set this scheme in motion, look at the top six cards of your library. You may put a creature card from among them onto the battlefield. Put the rest on the bottom of your library in any order.', 'type': 'Scheme', 'types': ['Scheme'], 'uuid': '3c05afe6-c92f-440d-b09a-cc23b15da495'}\n",
      "{'colorIdentity': ['W'], 'colors': ['W'], 'convertedManaCost': 3.0, 'foreignData': [], 'isReserved': False, 'layout': 'normal', 'legalities': {}, 'manaCost': '{2}{W}', 'name': 'AWOL', 'printings': ['UNH'], 'rulings': [], 'subtypes': [], 'supertypes': [], 'text': 'Exile target attacking creature. Then remove it from the game. Then put it into the absolutely-removed-from-the-freaking-game-forever zone.', 'type': 'Instant', 'types': ['Instant'], 'uuid': 'fcf3447a-ec7d-47d7-bf6b-e2bbe0ac58df'}\n",
      "{'colorIdentity': ['W'], 'colors': ['W'], 'convertedManaCost': 3.0, 'foreignData': [], 'isReserved': False, 'layout': 'normal', 'legalities': {}, 'manaCost': '{2}{W}', 'name': 'AWOL (b)', 'printings': ['UNH'], 'rulings': [], 'subtypes': [], 'supertypes': [], 'text': 'Exile target attacking creature. Then remove it from the game. Then put it into the absolutely-removed-from-the-freaking-game-forever zone.', 'type': 'Instant', 'types': ['Instant'], 'uuid': 'e0c94a52-fc1e-4f5d-a95c-47e6d6c8bef9'}\n",
      "{'colorIdentity': ['B'], 'colors': ['B'], 'convertedManaCost': 2.0, 'foreignData': [{'language': 'German', 'name': 'Verlust der Hoffnung', 'text': 'Wähle X Karten aus Deiner Hand und wirf diese ab: Schau Dir die Hand eines Gegners Deiner Wahl an und wähle X Karten aus, die er abwerfen muß.', 'type': 'Hexerei'}, {'language': 'Spanish', 'name': 'Perder la esperanza'}, {'language': 'French', 'name': \"Abandon de l'espoir\"}, {'language': 'Italian', 'name': 'Abbandonare la Speranza'}, {'language': 'Portuguese (Brazil)', 'name': 'Abandonar a Esperança'}], 'isReserved': False, 'layout': 'normal', 'legalities': {'1v1': 'Legal', 'commander': 'Legal', 'duel': 'Legal', 'legacy': 'Legal', 'penny': 'Legal', 'vintage': 'Legal'}, 'manaCost': '{X}{1}{B}', 'name': 'Abandon Hope', 'printings': ['TMP'], 'rulings': [], 'subtypes': [], 'supertypes': [], 'text': \"As an additional cost to cast this spell, discard X cards.\\nLook at target opponent's hand and choose X cards from it. That player discards those cards.\", 'type': 'Sorcery', 'types': ['Sorcery'], 'uuid': '942cf220-472c-48f6-8f60-993939ea5ab8'}\n"
     ]
    }
   ],
   "source": [
    "i = 0\n",
    "for card in raw_data_json:\n",
    "    print(raw_data_json[card])\n",
    "    i += 1\n",
    "    if i > 10:\n",
    "        break"
   ]
  },
  {
   "cell_type": "code",
   "execution_count": 26,
   "metadata": {},
   "outputs": [
    {
     "data": {
      "text/plain": [
       "{'colorIdentity': ['W'],\n",
       " 'colors': ['W'],\n",
       " 'convertedManaCost': 3.0,\n",
       " 'foreignData': [],\n",
       " 'isReserved': False,\n",
       " 'layout': 'normal',\n",
       " 'legalities': {},\n",
       " 'manaCost': '{2}{W}',\n",
       " 'name': 'AWOL',\n",
       " 'printings': ['UNH'],\n",
       " 'rulings': [],\n",
       " 'subtypes': [],\n",
       " 'supertypes': [],\n",
       " 'text': 'Exile target attacking creature. Then remove it from the game. Then put it into the absolutely-removed-from-the-freaking-game-forever zone.',\n",
       " 'type': 'Instant',\n",
       " 'types': ['Instant'],\n",
       " 'uuid': 'fcf3447a-ec7d-47d7-bf6b-e2bbe0ac58df'}"
      ]
     },
     "execution_count": 26,
     "metadata": {},
     "output_type": "execute_result"
    }
   ],
   "source": [
    "raw_data_json[\"AWOL\"]"
   ]
  },
  {
   "cell_type": "code",
   "execution_count": 44,
   "metadata": {},
   "outputs": [
    {
     "data": {
      "text/plain": [
       "'Instant'"
      ]
     },
     "execution_count": 44,
     "metadata": {},
     "output_type": "execute_result"
    }
   ],
   "source": [
    "raw_data_json[\"AWOL\"].get(\"type\", 0)"
   ]
  },
  {
   "cell_type": "code",
   "execution_count": 27,
   "metadata": {},
   "outputs": [
    {
     "data": {
      "text/plain": [
       "19267"
      ]
     },
     "execution_count": 27,
     "metadata": {},
     "output_type": "execute_result"
    }
   ],
   "source": [
    "len(raw_data_json.keys())"
   ]
  },
  {
   "cell_type": "code",
   "execution_count": 60,
   "metadata": {},
   "outputs": [],
   "source": [
    "creatures_ls = [card for card in raw_data_json if \"Creature\" in raw_data_json[card].get(\"type\", 0)]"
   ]
  },
  {
   "cell_type": "code",
   "execution_count": 61,
   "metadata": {},
   "outputs": [
    {
     "data": {
      "text/plain": [
       "10062"
      ]
     },
     "execution_count": 61,
     "metadata": {},
     "output_type": "execute_result"
    }
   ],
   "source": [
    "len(creatures_ls)"
   ]
  },
  {
   "cell_type": "code",
   "execution_count": 145,
   "metadata": {},
   "outputs": [],
   "source": [
    "# Format for feature vectors will be power, toughness, flying, firststrike, doublestrike, trample, \n",
    "# vigilance, defender, haste, menace, fear, deathtouch, indestructible, hexproof/shroud\n",
    "columns = [\"cid_c\", \"cid_w\", \"cid_u\", \"cid_g\", \"cid_b\", \"cid_r\", \"mc_c\", \"mc_w\", \"mc_u\", \"mc_b\", \"mc_r\", \"mc_g\",\\\n",
    "           \"power\", \"toughness\", \"flying\", \\\n",
    "           \"firststrike\", \"doublestrike\", \"trample\", \"vigilance\", \"defender\", \\\n",
    "           \"haste\", \"menace\", \"fear\", \"deathtouch\", \"indestructible\", \"hexproof/shroud\"]"
   ]
  },
  {
   "cell_type": "code",
   "execution_count": 146,
   "metadata": {},
   "outputs": [
    {
     "data": {
      "text/plain": [
       "array([[0., 0., 0., ..., 0., 0., 0.],\n",
       "       [0., 0., 0., ..., 0., 0., 0.],\n",
       "       [0., 0., 0., ..., 0., 0., 0.],\n",
       "       ...,\n",
       "       [0., 0., 0., ..., 0., 0., 0.],\n",
       "       [0., 0., 0., ..., 0., 0., 0.],\n",
       "       [0., 0., 0., ..., 0., 0., 0.]])"
      ]
     },
     "execution_count": 146,
     "metadata": {},
     "output_type": "execute_result"
    }
   ],
   "source": [
    "card_vectors_raw = np.zeros(shape = (len(creatures_ls), len(columns)))\n",
    "card_vectors_raw"
   ]
  },
  {
   "cell_type": "code",
   "execution_count": 147,
   "metadata": {},
   "outputs": [
    {
     "data": {
      "text/plain": [
       "(10062, 26)"
      ]
     },
     "execution_count": 147,
     "metadata": {},
     "output_type": "execute_result"
    }
   ],
   "source": [
    "card_vectors_raw.shape"
   ]
  },
  {
   "cell_type": "code",
   "execution_count": 140,
   "metadata": {},
   "outputs": [],
   "source": [
    "# test regex behavior re (har!) casting cost\n",
    "test_cost = raw_data_json[\"Wrath of God\"].get(\"manaCost\", \"\")\n",
    "test_cost_2 = '{2}{W}{W}{W}'"
   ]
  },
  {
   "cell_type": "code",
   "execution_count": 141,
   "metadata": {},
   "outputs": [],
   "source": [
    "matches = re.findall(\"{W}\", test_cost)"
   ]
  },
  {
   "cell_type": "code",
   "execution_count": 142,
   "metadata": {},
   "outputs": [
    {
     "data": {
      "text/plain": [
       "2"
      ]
     },
     "execution_count": 142,
     "metadata": {},
     "output_type": "execute_result"
    }
   ],
   "source": [
    "len(matches)"
   ]
  },
  {
   "cell_type": "code",
   "execution_count": 143,
   "metadata": {},
   "outputs": [],
   "source": [
    "matches = re.search(\"{(\\d*)}\", test_cost_2)"
   ]
  },
  {
   "cell_type": "code",
   "execution_count": 144,
   "metadata": {},
   "outputs": [
    {
     "data": {
      "text/plain": [
       "2"
      ]
     },
     "execution_count": 144,
     "metadata": {},
     "output_type": "execute_result"
    }
   ],
   "source": [
    "int(matches.groups()[0])"
   ]
  },
  {
   "cell_type": "code",
   "execution_count": null,
   "metadata": {},
   "outputs": [],
   "source": []
  },
  {
   "cell_type": "code",
   "execution_count": 156,
   "metadata": {},
   "outputs": [],
   "source": [
    "def produce_vector(card):\n",
    "    cid_c = int(len(card.get(\"colorIdentity\", [])) == 0)\n",
    "    cid_w = int('W' in card.get(\"colorIdentity\", []))\n",
    "    cid_u = int('U' in card.get(\"colorIdentity\", []))\n",
    "    cid_b = int('B' in card.get(\"colorIdentity\", []))\n",
    "    cid_r = int('R' in card.get(\"colorIdentity\", []))\n",
    "    cid_g = int('G' in card.get(\"colorIdentity\", []))\n",
    "    flying = int(\"flying\" in card.get(\"text\", \"\").lower())\n",
    "    trample = int(\"trample\" in card.get(\"text\", \"\").lower())\n",
    "    double_strike = int(\"double strike\" in card.get(\"text\", \"\").lower())\n",
    "    first_strike = int(\"first strike\" in card.get(\"text\", \"\").lower())\n",
    "    vigilance = int(\"vigilance\" in card.get(\"text\", \"\").lower())\n",
    "    haste = int(\"haste\" in card.get(\"text\", \"\").lower())\n",
    "    menace = int(\"menace\" in card.get(\"text\", \"\").lower())\n",
    "    fear = int(\"fear\" in card.get(\"text\", \"\").lower())\n",
    "    shadow = int(\"shadow\" in card.get(\"text\", \"\").lower())\n",
    "    flashback = int(\"flashback\" in card.get(\"text\", \"\").lower())\n",
    "    buyback = int(\"buyback\" in card.get(\"text\", \"\").lower())\n",
    "    defender = int(\"defender\" in card.get(\"text\", \"\").lower())\n",
    "    deathtouch = int(\"deathtouch\" in card.get(\"text\", \"\").lower())\n",
    "    indestructible = int(\"indestructible\" in card.get(\"text\", \"\").lower())\n",
    "    hexproof = int(\"hexproof\" in card.get(\"text\", \"\").lower())\n",
    "    shroud = int(\"shroud\" in card.get(\"text\", \"\").lower())\n",
    "\n",
    "    power = int(card.get(\"power\", \"\").lower())\n",
    "    toughness = int(card.get(\"toughness\", \"\").lower())\n",
    "\n",
    "    mc_c = 0\n",
    "    mc_c_result = re.search(\"{(\\d*)}\", card.get(\"manaCost\", \"\"))\n",
    "    if mc_c_result is not None:\n",
    "        mc_c = int(matches.groups()[0])\n",
    "    mc_w = len(re.findall(\"{W}\", card.get(\"manaCost\", \"\")))\n",
    "    mc_u = len(re.findall(\"{U}\", card.get(\"manaCost\", \"\")))\n",
    "    mc_b = len(re.findall(\"{B}\", card.get(\"manaCost\", \"\")))\n",
    "    mc_r = len(re.findall(\"{R}\", card.get(\"manaCost\", \"\")))\n",
    "    mc_g = len(re.findall(\"{G}\", card.get(\"manaCost\", \"\")))\n",
    "    \n",
    "    return [cid_c , cid_w , cid_u , cid_b ,cid_r , cid_g , mc_c, mc_w, mc_u, mc_b, mc_r, mc_g, \\\n",
    "            power, toughness, flying , trample , double_strike ,\\\n",
    "            first_strike , vigilance , haste , menace , fear , shadow , flashback , buyback ,\\\n",
    "            defender , deathtouch , indestructible , hexproof , shroud ]"
   ]
  },
  {
   "cell_type": "code",
   "execution_count": 158,
   "metadata": {},
   "outputs": [
    {
     "data": {
      "text/plain": [
       "[('cid_c', 0),\n",
       " ('cid_w', 0),\n",
       " ('cid_u', 0),\n",
       " ('cid_g', 0),\n",
       " ('cid_b', 0),\n",
       " ('cid_r', 1),\n",
       " ('mc_c', 2),\n",
       " ('mc_w', 0),\n",
       " ('mc_u', 0),\n",
       " ('mc_b', 0),\n",
       " ('mc_r', 0),\n",
       " ('mc_g', 2),\n",
       " ('power', 6),\n",
       " ('toughness', 4),\n",
       " ('flying', 0),\n",
       " ('firststrike', 0),\n",
       " ('doublestrike', 0),\n",
       " ('trample', 0),\n",
       " ('vigilance', 0),\n",
       " ('defender', 0),\n",
       " ('haste', 0),\n",
       " ('menace', 0),\n",
       " ('fear', 0),\n",
       " ('deathtouch', 0),\n",
       " ('indestructible', 0),\n",
       " ('hexproof/shroud', 0)]"
      ]
     },
     "execution_count": 158,
     "metadata": {},
     "output_type": "execute_result"
    }
   ],
   "source": [
    "list(zip(columns, produce_vector(raw_data_json[\"Craw Wurm\"])))"
   ]
  },
  {
   "cell_type": "code",
   "execution_count": null,
   "metadata": {},
   "outputs": [],
   "source": []
  }
 ],
 "metadata": {
  "kernelspec": {
   "display_name": "Python [conda env:anaconda3]",
   "language": "python",
   "name": "conda-env-anaconda3-py"
  },
  "language_info": {
   "codemirror_mode": {
    "name": "ipython",
    "version": 3
   },
   "file_extension": ".py",
   "mimetype": "text/x-python",
   "name": "python",
   "nbconvert_exporter": "python",
   "pygments_lexer": "ipython3",
   "version": "3.6.5"
  }
 },
 "nbformat": 4,
 "nbformat_minor": 2
}
